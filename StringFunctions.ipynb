{
 "cells": [
  {
   "cell_type": "markdown",
   "metadata": {},
   "source": [
    "# PIAIC,Second Assignment"
   ]
  },
  {
   "cell_type": "code",
   "execution_count": 4,
   "metadata": {},
   "outputs": [
    {
     "data": {
      "text/plain": [
       "'Python'"
      ]
     },
     "execution_count": 4,
     "metadata": {},
     "output_type": "execute_result"
    }
   ],
   "source": [
    "##The Capitalize function converts the first letter of any word into capital\n",
    "str=\"python\"\n",
    "str.capitalize()"
   ]
  },
  {
   "cell_type": "code",
   "execution_count": 5,
   "metadata": {},
   "outputs": [
    {
     "data": {
      "text/plain": [
       "'python'"
      ]
     },
     "execution_count": 5,
     "metadata": {},
     "output_type": "execute_result"
    }
   ],
   "source": [
    "##Casefold function returns a casefold copy of a string,which is used for caseless matching\n",
    "str=\"Python\"\n",
    "str.casefold()"
   ]
  },
  {
   "cell_type": "code",
   "execution_count": 8,
   "metadata": {},
   "outputs": [
    {
     "data": {
      "text/plain": [
       "'tttt-PYTHON-ttt'"
      ]
     },
     "execution_count": 8,
     "metadata": {},
     "output_type": "execute_result"
    }
   ],
   "source": [
    "##str.center increases the length of the string,with the given character with the string in the center\n",
    "str=\"-PYTHON-\"\n",
    "str.center(15,'t')"
   ]
  },
  {
   "cell_type": "code",
   "execution_count": 21,
   "metadata": {},
   "outputs": [
    {
     "data": {
      "text/plain": [
       "b'Python'"
      ]
     },
     "execution_count": 21,
     "metadata": {},
     "output_type": "execute_result"
    }
   ],
   "source": [
    "##Encode returns the encoded version of a string\n",
    "\n",
    "str=\"Python\"\n",
    "str.encode()"
   ]
  },
  {
   "cell_type": "code",
   "execution_count": null,
   "metadata": {},
   "outputs": [],
   "source": [
    "##endswith() checks if the string ends with the specified suffix\n",
    "\n",
    "str=\"Python is fun to learn\"\n",
    "print(str.endswith('learn'))\n",
    "\n",
    "##Here we are giving the start and end indices to search for a word\n",
    "print(str.endswith('fun',9,13))"
   ]
  },
  {
   "cell_type": "code",
   "execution_count": 20,
   "metadata": {},
   "outputs": [
    {
     "name": "stdout",
     "output_type": "stream",
     "text": [
      "Python  is      fun     to      learn\n",
      "Python  is  fun to  learn\n"
     ]
    }
   ],
   "source": [
    "##expandtabs() replaces the tab character with space,the defualt\n",
    "\n",
    "str='Python\\tis\\tfun\\tto\\tlearn'\n",
    "print(str.expandtabs())\n",
    "\n",
    "##printing with a specific tab size\n",
    "print(str.expandtabs(2))\n"
   ]
  },
  {
   "cell_type": "code",
   "execution_count": 24,
   "metadata": {},
   "outputs": [
    {
     "name": "stdout",
     "output_type": "stream",
     "text": [
      "10\n",
      "-1\n"
     ]
    }
   ],
   "source": [
    "##find() returns the first occurence of the specified substring\n",
    "str=\"Python is fun to learn\"\n",
    "print(str.find('fun'))\n",
    "\n",
    "##Searhing for a substring that is not in the main string,it will return -1\n",
    "print(str.find('simple'))"
   ]
  },
  {
   "cell_type": "code",
   "execution_count": 26,
   "metadata": {},
   "outputs": [
    {
     "name": "stdout",
     "output_type": "stream",
     "text": [
      "True\n",
      "False\n"
     ]
    }
   ],
   "source": [
    "##islower() function checks if all letters in a word are small and returns true if they are...\n",
    "##When all the letters are smnall\n",
    "str=\"python\"\n",
    "print(str.islower())\n",
    "\n",
    "##When there is a Capital Letter in the word\n",
    "str=\"Python\"\n",
    "print(str.islower())"
   ]
  },
  {
   "cell_type": "code",
   "execution_count": 28,
   "metadata": {},
   "outputs": [
    {
     "name": "stdout",
     "output_type": "stream",
     "text": [
      "False\n",
      "True\n"
     ]
    }
   ],
   "source": [
    "##isnumeric() returns true of all characters of a string are numeric\n",
    "##When the string is not entirely numeric\n",
    "str=\"python123\"\n",
    "print(str.isnumeric())\n",
    "\n",
    "##When the string is entirely numeric\n",
    "str=\"123456\"\n",
    "print(str.isnumeric())"
   ]
  },
  {
   "cell_type": "code",
   "execution_count": 36,
   "metadata": {},
   "outputs": [
    {
     "name": "stdout",
     "output_type": "stream",
     "text": [
      "True\n",
      "True\n",
      "False\n"
     ]
    }
   ],
   "source": [
    "##isprintable() determines if the string can be printed or not and returns true if the string can be printed.\n",
    "##Empty space is printable\n",
    "str=\"  \"\n",
    "print(str.isprintable())\n",
    "\n",
    "##letters are printable\n",
    "str=\"python\"\n",
    "print(str.isprintable())\n",
    "\n",
    "##characters with a slash are not printable\n",
    "str=\"python\\n\"\n",
    "print(str.isprintable())"
   ]
  },
  {
   "cell_type": "code",
   "execution_count": 39,
   "metadata": {},
   "outputs": [
    {
     "name": "stdout",
     "output_type": "stream",
     "text": [
      "False\n",
      "True\n",
      "True\n"
     ]
    }
   ],
   "source": [
    "##isspace() checks for whitespace in a string and returns true if present\n",
    "\n",
    "##String with letters and tab space\n",
    "str=\"python  \\t\"\n",
    "print(str.isspace())\n",
    "\n",
    "##Empty String\n",
    "str=\"    \"\n",
    "print(str.isspace())\n",
    "\n",
    "##String with a tab character\n",
    "str=\"\\t\"\n",
    "print(str.isspace())"
   ]
  },
  {
   "cell_type": "code",
   "execution_count": 43,
   "metadata": {},
   "outputs": [
    {
     "name": "stdout",
     "output_type": "stream",
     "text": [
      "False\n",
      "False\n",
      "True\n"
     ]
    }
   ],
   "source": [
    "##istitle() checks if the first letter of every letter is in capital,and returns true if it is the case,otherwise false...\n",
    "str=\"python\"\n",
    "print(str.istitle())\n",
    "\n",
    "str=\"Python Is a Fun LAnguage\"\n",
    "print(str.istitle())\n",
    "\n",
    "str=\"Python Is A Fun Language\"\n",
    "print(str.istitle())"
   ]
  },
  {
   "cell_type": "code",
   "execution_count": 49,
   "metadata": {},
   "outputs": [
    {
     "name": "stdout",
     "output_type": "stream",
     "text": [
      "True\n",
      "True\n",
      "False\n"
     ]
    }
   ],
   "source": [
    "##islanum returns true if the characters in a string are alphanumeric\n",
    "str=\"python123\"\n",
    "print(str.isalnum())\n",
    "\n",
    "str=\"123456\"\n",
    "print(str.isalnum())\n",
    "\n",
    "str=\"@\"\n",
    "print(str.isalnum())"
   ]
  },
  {
   "cell_type": "code",
   "execution_count": 52,
   "metadata": {},
   "outputs": [
    {
     "name": "stdout",
     "output_type": "stream",
     "text": [
      "True\n",
      "False\n"
     ]
    }
   ],
   "source": [
    "##isalpha() returns true if all characters of a string are alphabets\n",
    "\n",
    "str=\"python\"\n",
    "print(str.isalpha())\n",
    "\n",
    "str=\"python1223\"\n",
    "print(str.isalpha())"
   ]
  },
  {
   "cell_type": "code",
   "execution_count": 55,
   "metadata": {},
   "outputs": [
    {
     "name": "stdout",
     "output_type": "stream",
     "text": [
      "True\n",
      "True\n",
      "True\n"
     ]
    }
   ],
   "source": [
    "##isascii() returns true if the string is made of ascii characters\n",
    "str=\"Python\"\n",
    "print(str.isascii())\n",
    "\n",
    "str=\"python123\"\n",
    "print(str.isascii())\n",
    "\n",
    "str=\"-----\"\n",
    "print(str.isascii())"
   ]
  },
  {
   "cell_type": "code",
   "execution_count": 57,
   "metadata": {},
   "outputs": [
    {
     "name": "stdout",
     "output_type": "stream",
     "text": [
      "True\n",
      "False\n"
     ]
    }
   ],
   "source": [
    "##isdecimal() returns true if all characters in a string are decimal characters,otherwise returns false\n",
    "str=\"12345\"\n",
    "print(str.isdecimal())\n",
    "\n",
    "str=\"python123\"\n",
    "print(str.isdecimal())"
   ]
  },
  {
   "cell_type": "code",
   "execution_count": 59,
   "metadata": {},
   "outputs": [
    {
     "name": "stdout",
     "output_type": "stream",
     "text": [
      "True\n",
      "False\n"
     ]
    }
   ],
   "source": [
    "##isdigit() returns true if all the characters in a string are digits\n",
    "str=\"223\"\n",
    "print(str.isdigit())\n",
    "\n",
    "str=\"python123\"\n",
    "print(str.isdigit())"
   ]
  },
  {
   "cell_type": "code",
   "execution_count": 62,
   "metadata": {},
   "outputs": [
    {
     "name": "stdout",
     "output_type": "stream",
     "text": [
      "True\n",
      "False\n",
      "True\n"
     ]
    }
   ],
   "source": [
    "##isidentifier() returns true if the string contains only alphanumeric characters and underscores(__)\n",
    "str=\"HelloWorld\"\n",
    "print(str.isidentifier())\n",
    "\n",
    "str=\"Hello World\"\n",
    "print(str.isidentifier())\n",
    "\n",
    "str=\"__Hello__World\"\n",
    "print(str.isidentifier())"
   ]
  },
  {
   "cell_type": "code",
   "execution_count": 64,
   "metadata": {},
   "outputs": [
    {
     "name": "stdout",
     "output_type": "stream",
     "text": [
      "True\n",
      "False\n"
     ]
    }
   ],
   "source": [
    "##islower() returns true if all characters in a strings are small letters\n",
    "str=\"python\"\n",
    "print(str.islower())\n",
    "\n",
    "str=\"Python\"\n",
    "print(str.islower())"
   ]
  },
  {
   "cell_type": "code",
   "execution_count": 66,
   "metadata": {
    "scrolled": true
   },
   "outputs": [
    {
     "name": "stdout",
     "output_type": "stream",
     "text": [
      "True\n",
      "False\n"
     ]
    }
   ],
   "source": [
    "##isupper() returns true if all characters in a string are capital,otherwise returns false\n",
    "str=\"PYTHON\"\n",
    "print(str.isupper())\n",
    "\n",
    "str=\"Python\"\n",
    "print(str.isupper())"
   ]
  },
  {
   "cell_type": "code",
   "execution_count": 81,
   "metadata": {},
   "outputs": [
    {
     "name": "stdout",
     "output_type": "stream",
     "text": [
      "Python is fun to learn\n"
     ]
    }
   ],
   "source": [
    "##join() function concatenates the elements of a tuple with a separator in between\n",
    "string= (\"Python\",\"is\",\"fun\",\"to\",\"learn\")\n",
    "x= \" \".join(string)\n",
    "print(x)"
   ]
  },
  {
   "cell_type": "code",
   "execution_count": 83,
   "metadata": {},
   "outputs": [
    {
     "name": "stdout",
     "output_type": "stream",
     "text": [
      "Python@@@@@@@@@\n"
     ]
    }
   ],
   "source": [
    "##ljust() aligns the string to the left and adds the filler character to fill the remaining length\n",
    "string=\"Python\"\n",
    "print(string.ljust(15,\"@\"))"
   ]
  },
  {
   "cell_type": "code",
   "execution_count": 84,
   "metadata": {},
   "outputs": [
    {
     "name": "stdout",
     "output_type": "stream",
     "text": [
      "python\n"
     ]
    }
   ],
   "source": [
    "##lower() turns the string to lowercase\n",
    "string=\"PYTHON\"\n",
    "print(string.lower())"
   ]
  },
  {
   "cell_type": "code",
   "execution_count": 88,
   "metadata": {},
   "outputs": [
    {
     "name": "stdout",
     "output_type": "stream",
     "text": [
      "Python\n"
     ]
    }
   ],
   "source": [
    "##lstrip removes any characters or spaces to the left to the string\n",
    "string=\"tttttttttt-----                Python\"\n",
    "print(string.lstrip(\"t- \"))"
   ]
  },
  {
   "cell_type": "code",
   "execution_count": 90,
   "metadata": {},
   "outputs": [
    {
     "name": "stdout",
     "output_type": "stream",
     "text": [
      "('Python is fun ', 'And', ' easy to learn')\n"
     ]
    }
   ],
   "source": [
    "## partition() breaks up a string at the specific keyword and turns the string into tuple with portion before keyword,keyword \n",
    "##and after keyword\n",
    "string=\"Python is fun And easy to learn\"\n",
    "print(string.partition('And'))"
   ]
  },
  {
   "cell_type": "code",
   "execution_count": 92,
   "metadata": {},
   "outputs": [
    {
     "name": "stdout",
     "output_type": "stream",
     "text": [
      "Python is easy to learn\n"
     ]
    }
   ],
   "source": [
    "##Replace() repleces the keyword with the mentioned word\n",
    "string=\"Python is difficult to learn\"\n",
    "print(string.replace(\"difficult\",\"easy\"))"
   ]
  },
  {
   "cell_type": "code",
   "execution_count": 93,
   "metadata": {},
   "outputs": [
    {
     "name": "stdout",
     "output_type": "stream",
     "text": [
      "('Python is and innovative language and ', 'Python', ' is easy to learn')\n"
     ]
    }
   ],
   "source": [
    "##rpartition() divides the string at the last occurrence of a specified keyword, into 3 parts\n",
    "String=\"Python is and innovative language and Python is easy to learn\"\n",
    "print(String.rpartition(\"Python\"))"
   ]
  },
  {
   "cell_type": "code",
   "execution_count": 94,
   "metadata": {},
   "outputs": [
    {
     "name": "stdout",
     "output_type": "stream",
     "text": [
      "['Apples,Bananas,Oranges,Grapes']\n"
     ]
    }
   ],
   "source": [
    "##rsplit() converts the string into a list\n",
    "String=\"Apples,Bananas,Oranges,Grapes\"\n",
    "print(String.rsplit(\", \"))"
   ]
  },
  {
   "cell_type": "code",
   "execution_count": 98,
   "metadata": {},
   "outputs": [
    {
     "name": "stdout",
     "output_type": "stream",
     "text": [
      "Python is easy to learn\n"
     ]
    }
   ],
   "source": [
    "##rstrip() removes any trailing characters from the string at the right side\n",
    "String=\"Python is easy to learn    @@@@                          \"\n",
    "print(String.rstrip(\" @ \"))"
   ]
  },
  {
   "cell_type": "code",
   "execution_count": 100,
   "metadata": {},
   "outputs": [
    {
     "name": "stdout",
     "output_type": "stream",
     "text": [
      "['Python', 'is', 'an', 'advanced', 'language']\n"
     ]
    }
   ],
   "source": [
    "##split(),splits the string and converts it into a list\n",
    "String= \"Python is an advanced language\"\n",
    "print(String.split())"
   ]
  },
  {
   "cell_type": "code",
   "execution_count": 101,
   "metadata": {},
   "outputs": [
    {
     "name": "stdout",
     "output_type": "stream",
     "text": [
      "['Python is advanced', 'People should try to learn it']\n"
     ]
    }
   ],
   "source": [
    "##splitlines(),splits the string into a list at linebreak\n",
    "String=\"Python is advanced\\nPeople should try to learn it\"\n",
    "print(String.splitlines())"
   ]
  },
  {
   "cell_type": "code",
   "execution_count": 104,
   "metadata": {},
   "outputs": [
    {
     "name": "stdout",
     "output_type": "stream",
     "text": [
      "True\n",
      "True\n"
     ]
    }
   ],
   "source": [
    "##startswith(),checks if the string starts with the mentioned keyword\n",
    "String=\"Hello,Welcome to my world\"\n",
    "print(String.startswith(\"Hello\"))\n",
    "print(String.startswith(\"Welcome\",6,20))"
   ]
  },
  {
   "cell_type": "code",
   "execution_count": 111,
   "metadata": {},
   "outputs": [
    {
     "name": "stdout",
     "output_type": "stream",
     "text": [
      "Python\n"
     ]
    }
   ],
   "source": [
    "##strip(),removes unwanted spaces and characters from the string\n",
    "String=\"      @@@  Python   &&&                  \"\n",
    "print(String.strip(\" @ &\"))"
   ]
  },
  {
   "cell_type": "code",
   "execution_count": 112,
   "metadata": {},
   "outputs": [
    {
     "name": "stdout",
     "output_type": "stream",
     "text": [
      "tHIS IS A TEST sTRING FOR SWAPcASE\n"
     ]
    }
   ],
   "source": [
    "##swapcase(),changes the case of the letters of a string\n",
    "String=\"This is a test String for swapCase\"\n",
    "print(String.swapcase())"
   ]
  },
  {
   "cell_type": "code",
   "execution_count": 114,
   "metadata": {},
   "outputs": [
    {
     "name": "stdout",
     "output_type": "stream",
     "text": [
      "This Is A Test String For Title\n"
     ]
    }
   ],
   "source": [
    "##title(),converts the first letter of every word in uppercase\n",
    "String=\"this is a test string for title\"\n",
    "print(String.title())"
   ]
  },
  {
   "cell_type": "code",
   "execution_count": 115,
   "metadata": {},
   "outputs": [
    {
     "name": "stdout",
     "output_type": "stream",
     "text": [
      "THIS IS A TEST STRING FOR UPPER\n"
     ]
    }
   ],
   "source": [
    "##upper(),converts lowercase letters into uppercase letters\n",
    "String=\"this is a test string for upper\"\n",
    "print(String.upper())"
   ]
  },
  {
   "cell_type": "code",
   "execution_count": 116,
   "metadata": {},
   "outputs": [
    {
     "name": "stdout",
     "output_type": "stream",
     "text": [
      "00000000000Test\n"
     ]
    }
   ],
   "source": [
    "##zfill(),adds zeroes to the right of the string until it has achieved the specified length\n",
    "String=\"Test\"\n",
    "print(String.zfill(15))"
   ]
  },
  {
   "cell_type": "code",
   "execution_count": null,
   "metadata": {},
   "outputs": [],
   "source": []
  }
 ],
 "metadata": {
  "kernelspec": {
   "display_name": "Python 3",
   "language": "python",
   "name": "python3"
  },
  "language_info": {
   "codemirror_mode": {
    "name": "ipython",
    "version": 3
   },
   "file_extension": ".py",
   "mimetype": "text/x-python",
   "name": "python",
   "nbconvert_exporter": "python",
   "pygments_lexer": "ipython3",
   "version": "3.7.4"
  }
 },
 "nbformat": 4,
 "nbformat_minor": 2
}
